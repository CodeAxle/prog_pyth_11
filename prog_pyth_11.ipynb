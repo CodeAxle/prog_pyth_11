{
 "cells": [
  {
   "cell_type": "markdown",
   "id": "586b91ca",
   "metadata": {},
   "source": [
    "# 1."
   ]
  },
  {
   "cell_type": "code",
   "execution_count": 1,
   "id": "abbb4981",
   "metadata": {},
   "outputs": [
    {
     "name": "stdout",
     "output_type": "stream",
     "text": [
      "Words greater than length 5 : ['banana', 'orange', 'grapes', 'pineapple']\n"
     ]
    }
   ],
   "source": [
    "# code:\n",
    "def find_long_words(words_list, k):\n",
    "    # Initialize an empty list to store long words\n",
    "    long_words = []\n",
    "    \n",
    "    # Iterate through the words in the list\n",
    "    for word in words_list:\n",
    "        # Check if the length of the word is greater than k\n",
    "        if len(word) > k:\n",
    "            # If yes, add it to the long_words list\n",
    "            long_words.append(word)\n",
    "    \n",
    "    return long_words\n",
    "\n",
    "# Sample list of words\n",
    "words_list = [\"apple\", \"banana\", \"orange\", \"grapes\", \"kiwi\", \"pineapple\"]\n",
    "\n",
    "# Given length\n",
    "k = 5\n",
    "\n",
    "# Find words greater than length k\n",
    "result = find_long_words(words_list, k)\n",
    "\n",
    "# Print the result\n",
    "print(\"Words greater than length\", k, \":\", result)"
   ]
  },
  {
   "cell_type": "markdown",
   "id": "bc05844d",
   "metadata": {},
   "source": [
    "# 2."
   ]
  },
  {
   "cell_type": "code",
   "execution_count": 2,
   "id": "27693bc6",
   "metadata": {},
   "outputs": [
    {
     "name": "stdout",
     "output_type": "stream",
     "text": [
      "Original string: example\n",
      "After removing character at index 3 : exaple\n"
     ]
    }
   ],
   "source": [
    "# code:\n",
    "def remove_ith_character(input_string, i):\n",
    "    # Check if i is a valid index\n",
    "    if i >= len(input_string) or i < 0:\n",
    "        return \"Invalid index\"\n",
    "    \n",
    "    # Create a new string by concatenating the characters before and after the i-th character\n",
    "    new_string = input_string[:i] + input_string[i+1:]\n",
    "    \n",
    "    return new_string\n",
    "\n",
    "# Input string\n",
    "input_str = \"example\"\n",
    "\n",
    "# Index of character to be removed\n",
    "index_to_remove = 3\n",
    "\n",
    "# Remove i-th character\n",
    "result = remove_ith_character(input_str, index_to_remove)\n",
    "\n",
    "# Print the result\n",
    "print(\"Original string:\", input_str)\n",
    "print(\"After removing character at index\", index_to_remove, \":\", result)"
   ]
  },
  {
   "cell_type": "markdown",
   "id": "d214db69",
   "metadata": {},
   "source": [
    "# 3."
   ]
  },
  {
   "cell_type": "code",
   "execution_count": 3,
   "id": "02942b17",
   "metadata": {},
   "outputs": [
    {
     "name": "stdout",
     "output_type": "stream",
     "text": [
      "Original string: Hello world, how are you?\n",
      "After splitting and joining: Hello-world,-how-are-you?\n"
     ]
    }
   ],
   "source": [
    "# code:\n",
    "def split_and_join(input_string, delimiter=' '):\n",
    "    # Split the input string based on the delimiter\n",
    "    words_list = input_string.split(delimiter)\n",
    "    \n",
    "    # Join the words back together using a different delimiter\n",
    "    new_string = '-'.join(words_list)\n",
    "    \n",
    "    return new_string\n",
    "\n",
    "# Input string\n",
    "input_str = \"Hello world, how are you?\"\n",
    "\n",
    "# Delimiter for splitting and joining\n",
    "delimiter = ' '\n",
    "\n",
    "# Split and join the string\n",
    "result = split_and_join(input_str, delimiter)\n",
    "\n",
    "# Print the result\n",
    "print(\"Original string:\", input_str)\n",
    "print(\"After splitting and joining:\", result)"
   ]
  },
  {
   "cell_type": "markdown",
   "id": "e90df0ff",
   "metadata": {},
   "source": [
    "# 4."
   ]
  },
  {
   "cell_type": "code",
   "execution_count": 4,
   "id": "59f2b360",
   "metadata": {},
   "outputs": [
    {
     "name": "stdout",
     "output_type": "stream",
     "text": [
      "Is binary string? True\n",
      "Is binary string? False\n"
     ]
    }
   ],
   "source": [
    "# code:\n",
    "def is_binary_string(input_str):\n",
    "    # Iterate through each character in the string\n",
    "    for char in input_str:\n",
    "        # Check if the character is not '0' or '1'\n",
    "        if char != '0' and char != '1':\n",
    "            return False\n",
    "    \n",
    "    # If all characters are either '0' or '1', return True\n",
    "    return True\n",
    "\n",
    "# Input string to check\n",
    "input_str = \"101010101010\"\n",
    "# Call the function and print the result\n",
    "print(\"Is binary string?\", is_binary_string(input_str))\n",
    "\n",
    "# Another example with a non-binary string\n",
    "input_str = \"10101010102\"\n",
    "print(\"Is binary string?\", is_binary_string(input_str))"
   ]
  },
  {
   "cell_type": "markdown",
   "id": "81fa6610",
   "metadata": {},
   "source": [
    "# 5."
   ]
  },
  {
   "cell_type": "code",
   "execution_count": 5,
   "id": "b9b48ec9",
   "metadata": {},
   "outputs": [
    {
     "name": "stdout",
     "output_type": "stream",
     "text": [
      "Uncommon words: ['a', 'another', 'world']\n"
     ]
    }
   ],
   "source": [
    "# code:\n",
    "def find_uncommon_words(str1, str2):\n",
    "    # Split the strings into lists of words\n",
    "    words1 = str1.split()\n",
    "    words2 = str2.split()\n",
    "    \n",
    "    # Convert the lists of words into sets for efficient comparison\n",
    "    set1 = set(words1)\n",
    "    set2 = set(words2)\n",
    "    \n",
    "    # Find the uncommon words by taking the symmetric difference of the sets\n",
    "    uncommon_words = set1.symmetric_difference(set2)\n",
    "    \n",
    "    return list(uncommon_words)\n",
    "\n",
    "# Input strings\n",
    "str1 = \"Hello world this is a test\"\n",
    "str2 = \"Hello this is another test\"\n",
    "\n",
    "# Call the function and print the uncommon words\n",
    "print(\"Uncommon words:\", find_uncommon_words(str1, str2))"
   ]
  },
  {
   "cell_type": "markdown",
   "id": "afa94c9b",
   "metadata": {},
   "source": [
    "# 6."
   ]
  },
  {
   "cell_type": "code",
   "execution_count": 6,
   "id": "e660b995",
   "metadata": {},
   "outputs": [
    {
     "name": "stdout",
     "output_type": "stream",
     "text": [
      "Duplicate characters: ['l', 'o']\n"
     ]
    }
   ],
   "source": [
    "# code:\n",
    "def find_duplicate_characters(input_string):\n",
    "    # Initialize an empty dictionary to store character counts\n",
    "    char_count = {}\n",
    "    \n",
    "    # Iterate through the characters in the input string\n",
    "    for char in input_string:\n",
    "        # Increment the count for each character in the dictionary\n",
    "        char_count[char] = char_count.get(char, 0) + 1\n",
    "    \n",
    "    # Find the characters with counts greater than 1 (i.e., duplicates)\n",
    "    duplicate_chars = [char for char, count in char_count.items() if count > 1]\n",
    "    \n",
    "    return duplicate_chars\n",
    "\n",
    "# Input string\n",
    "input_str = \"hello world\"\n",
    "\n",
    "# Call the function and print the duplicate characters\n",
    "print(\"Duplicate characters:\", find_duplicate_characters(input_str))"
   ]
  },
  {
   "cell_type": "markdown",
   "id": "0599b3c9",
   "metadata": {},
   "source": [
    "# 7."
   ]
  },
  {
   "cell_type": "code",
   "execution_count": 7,
   "id": "cd6d0f81",
   "metadata": {},
   "outputs": [
    {
     "name": "stdout",
     "output_type": "stream",
     "text": [
      "String contains special characters.\n"
     ]
    }
   ],
   "source": [
    "# code:\n",
    "import re\n",
    "\n",
    "def contains_special_characters(input_string):\n",
    "    # Regular expression pattern to match special characters\n",
    "    pattern = re.compile(r'[@_!#$%^&*()<>?/\\|}{~:]')\n",
    "    \n",
    "    # Use the pattern to search for special characters in the input string\n",
    "    if pattern.search(input_string) is not None:\n",
    "        return True  # String contains special characters\n",
    "    else:\n",
    "        return False  # String does not contain special characters\n",
    "\n",
    "# Input string\n",
    "input_str = \"Hello, world!\"\n",
    "\n",
    "# Call the function and check if the string contains special characters\n",
    "if contains_special_characters(input_str):\n",
    "    print(\"String contains special characters.\")\n",
    "else:\n",
    "    print(\"String does not contain special characters.\")"
   ]
  },
  {
   "cell_type": "code",
   "execution_count": null,
   "id": "3d36b4be",
   "metadata": {},
   "outputs": [],
   "source": []
  }
 ],
 "metadata": {
  "kernelspec": {
   "display_name": "Python 3 (ipykernel)",
   "language": "python",
   "name": "python3"
  },
  "language_info": {
   "codemirror_mode": {
    "name": "ipython",
    "version": 3
   },
   "file_extension": ".py",
   "mimetype": "text/x-python",
   "name": "python",
   "nbconvert_exporter": "python",
   "pygments_lexer": "ipython3",
   "version": "3.11.5"
  }
 },
 "nbformat": 4,
 "nbformat_minor": 5
}
